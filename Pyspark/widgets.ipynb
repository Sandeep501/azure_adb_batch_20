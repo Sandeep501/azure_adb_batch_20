{
 "cells": [
  {
   "cell_type": "code",
   "execution_count": 0,
   "metadata": {
    "application/vnd.databricks.v1+cell": {
     "cellMetadata": {
      "byteLimit": 2048000,
      "rowLimit": 10000
     },
     "inputWidgets": {},
     "nuid": "87d4365b-b385-4934-8504-0825f2eacdbf",
     "showTitle": false,
     "tableResultSettingsMap": {},
     "title": ""
    }
   },
   "outputs": [],
   "source": [
    "dbutils.widgets.removeAll()\n",
    "dbutils.widgets.text(\"Name\", \"Harish\", \"Enter Name:\")\n",
    "dbutils.widgets.dropdown(\"Subject\", defaultValue=\"English\", choices=[\"English\", \"Telugu\", \"Hindi\"], label=\"Choose the Subject:\")\n",
    "dbutils.widgets.combobox(\"SubjectCombo\", defaultValue=\"English\", choices=[\"English\", \"Telugu\", \"Hindi\"], label=\"Choose the Subject:\")\n",
    "dbutils.widgets.multiselect(name=\"MultiSelect\", defaultValue=\"Telugu\", choices=[\"English\", \"Telugu\", \"Hindi\"], label=\"MultiSelect\")\n",
    "\n",
    "name = int(dbutils.widgets.get(\"Name\"))\n",
    "subject = dbutils.widgets.get(\"Subject\")\n",
    "subject_combo = dbutils.widgets.get(\"SubjectCombo\")\n",
    "multi_select = (dbutils.widgets.get(\"MultiSelect\")).split(\",\")\n",
    "print(name)\n",
    "print(subject)\n",
    "print(subject_combo)\n",
    "print(multi_select)"
   ]
  },
  {
   "cell_type": "code",
   "execution_count": 0,
   "metadata": {
    "application/vnd.databricks.v1+cell": {
     "cellMetadata": {
      "byteLimit": 2048000,
      "rowLimit": 10000
     },
     "inputWidgets": {},
     "nuid": "6008c923-79ed-4fe9-b669-553a139a2c3f",
     "showTitle": false,
     "tableResultSettingsMap": {},
     "title": ""
    }
   },
   "outputs": [],
   "source": [
    "type(name)"
   ]
  },
  {
   "cell_type": "code",
   "execution_count": 0,
   "metadata": {
    "application/vnd.databricks.v1+cell": {
     "cellMetadata": {
      "byteLimit": 2048000,
      "rowLimit": 10000
     },
     "inputWidgets": {},
     "nuid": "201cc418-4e16-4d9d-8b67-41560176546c",
     "showTitle": false,
     "tableResultSettingsMap": {},
     "title": ""
    }
   },
   "outputs": [],
   "source": [
    "isinstance(name, int)"
   ]
  },
  {
   "cell_type": "code",
   "execution_count": 0,
   "metadata": {
    "application/vnd.databricks.v1+cell": {
     "cellMetadata": {
      "byteLimit": 2048000,
      "rowLimit": 10000
     },
     "inputWidgets": {},
     "nuid": "38b43a2e-b4a1-40ac-8e12-733d5d9fcb0f",
     "showTitle": false,
     "tableResultSettingsMap": {},
     "title": ""
    }
   },
   "outputs": [],
   "source": [
    "type(multi_select)"
   ]
  }
 ],
 "metadata": {
  "application/vnd.databricks.v1+notebook": {
   "computePreferences": null,
   "dashboards": [],
   "environmentMetadata": {
    "base_environment": "",
    "environment_version": "2"
   },
   "inputWidgetPreferences": null,
   "language": "python",
   "notebookMetadata": {
    "pythonIndentUnit": 4
   },
   "notebookName": "widgets",
   "widgets": {
    "MultiSelect": {
     "currentValue": "English,Hindi,Telugu",
     "nuid": "efccc750-f72c-4bcf-a292-fe8556b53906",
     "typedWidgetInfo": {
      "autoCreated": false,
      "defaultValue": "Telugu",
      "label": "MultiSelect",
      "name": "MultiSelect",
      "options": {
       "widgetDisplayType": "Dropdown",
       "choices": [
        "English",
        "Telugu",
        "Hindi"
       ],
       "fixedDomain": true,
       "multiselect": true
      },
      "parameterDataType": "String"
     },
     "widgetInfo": {
      "widgetType": "multiselect",
      "defaultValue": "Telugu",
      "label": "MultiSelect",
      "name": "MultiSelect",
      "options": {
       "widgetType": "dropdown",
       "autoCreated": null,
       "choices": [
        "English",
        "Telugu",
        "Hindi"
       ]
      }
     }
    },
    "Name": {
     "currentValue": "10",
     "nuid": "8247de92-cc21-4a31-acfa-da71bd7608bc",
     "typedWidgetInfo": {
      "autoCreated": false,
      "defaultValue": "Harish",
      "label": "Enter Name:",
      "name": "Name",
      "options": {
       "widgetDisplayType": "Text",
       "validationRegex": null
      },
      "parameterDataType": "String"
     },
     "widgetInfo": {
      "widgetType": "text",
      "defaultValue": "Harish",
      "label": "Enter Name:",
      "name": "Name",
      "options": {
       "widgetType": "text",
       "autoCreated": null,
       "validationRegex": null
      }
     }
    },
    "Subject": {
     "currentValue": "English",
     "nuid": "5011bab3-3ed5-4d94-8c86-7d054b83e92f",
     "typedWidgetInfo": {
      "autoCreated": false,
      "defaultValue": "English",
      "label": "Choose the Subject:",
      "name": "Subject",
      "options": {
       "widgetDisplayType": "Dropdown",
       "choices": [
        "English",
        "Telugu",
        "Hindi"
       ],
       "fixedDomain": true,
       "multiselect": false
      },
      "parameterDataType": "String"
     },
     "widgetInfo": {
      "widgetType": "dropdown",
      "defaultValue": "English",
      "label": "Choose the Subject:",
      "name": "Subject",
      "options": {
       "widgetType": "dropdown",
       "autoCreated": null,
       "choices": [
        "English",
        "Telugu",
        "Hindi"
       ]
      }
     }
    },
    "SubjectCombo": {
     "currentValue": "Telugu",
     "nuid": "6a0545a7-4f8f-4d37-b789-ad609eedcba0",
     "typedWidgetInfo": {
      "autoCreated": false,
      "defaultValue": "English",
      "label": "Choose the Subject:",
      "name": "SubjectCombo",
      "options": {
       "widgetDisplayType": "Dropdown",
       "choices": [
        "English",
        "Telugu",
        "Hindi"
       ],
       "fixedDomain": false,
       "multiselect": false
      },
      "parameterDataType": "String"
     },
     "widgetInfo": {
      "widgetType": "combobox",
      "defaultValue": "English",
      "label": "Choose the Subject:",
      "name": "SubjectCombo",
      "options": {
       "widgetType": "dropdown",
       "autoCreated": null,
       "choices": [
        "English",
        "Telugu",
        "Hindi"
       ]
      }
     }
    }
   }
  },
  "language_info": {
   "name": "python"
  }
 },
 "nbformat": 4,
 "nbformat_minor": 0
}
