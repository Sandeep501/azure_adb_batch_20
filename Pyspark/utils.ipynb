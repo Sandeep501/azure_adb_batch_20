{
 "cells": [
  {
   "cell_type": "code",
   "execution_count": 0,
   "metadata": {
    "application/vnd.databricks.v1+cell": {
     "cellMetadata": {
      "byteLimit": 2048000,
      "rowLimit": 10000
     },
     "inputWidgets": {},
     "nuid": "ecbb09ae-0470-4b51-b387-3913c4a49a73",
     "showTitle": false,
     "tableResultSettingsMap": {},
     "title": ""
    }
   },
   "outputs": [],
   "source": [
    "from pyspark.sql import functions as F, types as T"
   ]
  },
  {
   "cell_type": "code",
   "execution_count": 0,
   "metadata": {
    "application/vnd.databricks.v1+cell": {
     "cellMetadata": {},
     "inputWidgets": {},
     "nuid": "81a62414-7628-49b5-98a3-7ef46f13594e",
     "showTitle": false,
     "tableResultSettingsMap": {},
     "title": ""
    }
   },
   "outputs": [],
   "source": [
    "# from pyspark.sql.functions import *"
   ]
  },
  {
   "cell_type": "code",
   "execution_count": 0,
   "metadata": {
    "application/vnd.databricks.v1+cell": {
     "cellMetadata": {},
     "inputWidgets": {},
     "nuid": "76ea3218-9b90-4d6b-bacc-b11fc20891d0",
     "showTitle": false,
     "tableResultSettingsMap": {},
     "title": ""
    }
   },
   "outputs": [],
   "source": [
    "# from pyspark.sql import functions as F"
   ]
  },
  {
   "cell_type": "code",
   "execution_count": 0,
   "metadata": {
    "application/vnd.databricks.v1+cell": {
     "cellMetadata": {
      "byteLimit": 2048000,
      "rowLimit": 10000
     },
     "inputWidgets": {},
     "nuid": "ce521ef4-73f9-4904-9ce9-a3b2d3134f15",
     "showTitle": false,
     "tableResultSettingsMap": {},
     "title": ""
    }
   },
   "outputs": [],
   "source": [
    "# def convertCase(name):\n",
    "#     fullName = \"\"\n",
    "#     name = name.split(\" \") # ---> [\"sandeep\", \"reddy\"] --> ['animireddigari', 'sandeep', 'reddy']\n",
    "#     for word in name:\n",
    "#         fullName = fullName + word[0].upper() + word[1:] + \" \"\n",
    "#     return fullName.strip() # --> \"Sandeep Reddy\", \"Chandra Babu Naidu\""
   ]
  },
  {
   "cell_type": "code",
   "execution_count": 0,
   "metadata": {
    "application/vnd.databricks.v1+cell": {
     "cellMetadata": {
      "byteLimit": 2048000,
      "rowLimit": 10000
     },
     "inputWidgets": {},
     "nuid": "f39eca2e-87fa-41a5-b870-1ab418d85ef6",
     "showTitle": false,
     "tableResultSettingsMap": {},
     "title": ""
    }
   },
   "outputs": [],
   "source": [
    "# case 1:\n",
    "# convertCaseUDF = F.udf(lambda z: convertCase(z), T.StringType())"
   ]
  },
  {
   "cell_type": "code",
   "execution_count": 0,
   "metadata": {
    "application/vnd.databricks.v1+cell": {
     "cellMetadata": {
      "byteLimit": 2048000,
      "rowLimit": 10000
     },
     "inputWidgets": {},
     "nuid": "2d4f1373-ad4e-4014-b154-dc3a3c7186f4",
     "showTitle": false,
     "tableResultSettingsMap": {},
     "title": ""
    }
   },
   "outputs": [],
   "source": [
    "# case 2:\n",
    "@udf(T.StringType())\n",
    "def convertCase(name):\n",
    "    fullName = \"\"\n",
    "    name = name.split(\" \") # ---> [\"sandeep\", \"reddy\"] --> ['animireddigari', 'sandeep', 'reddy']\n",
    "    for word in name:\n",
    "        fullName = fullName + word[0].upper() + word[1:] + \" \"\n",
    "    return fullName.strip() # --> \"Sandeep Reddy\", \"Chandra Babu Naidu\""
   ]
  }
 ],
 "metadata": {
  "application/vnd.databricks.v1+notebook": {
   "computePreferences": null,
   "dashboards": [],
   "environmentMetadata": {
    "base_environment": "",
    "environment_version": "2"
   },
   "inputWidgetPreferences": null,
   "language": "python",
   "notebookMetadata": {
    "pythonIndentUnit": 4
   },
   "notebookName": "utils",
   "widgets": {}
  },
  "language_info": {
   "name": "python"
  }
 },
 "nbformat": 4,
 "nbformat_minor": 0
}
