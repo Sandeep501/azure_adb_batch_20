{
 "cells": [
  {
   "cell_type": "code",
   "execution_count": 0,
   "metadata": {
    "application/vnd.databricks.v1+cell": {
     "cellMetadata": {
      "byteLimit": 2048000,
      "rowLimit": 10000
     },
     "inputWidgets": {},
     "nuid": "92d49e9b-0951-4bcd-8967-a8e1ae799de3",
     "showTitle": false,
     "tableResultSettingsMap": {},
     "title": ""
    }
   },
   "outputs": [],
   "source": [
    "dbutils.secrets.listScopes()"
   ]
  },
  {
   "cell_type": "code",
   "execution_count": 0,
   "metadata": {
    "application/vnd.databricks.v1+cell": {
     "cellMetadata": {
      "byteLimit": 2048000,
      "rowLimit": 10000
     },
     "inputWidgets": {},
     "nuid": "8ccda052-2878-4e90-b00f-af631409d395",
     "showTitle": false,
     "tableResultSettingsMap": {},
     "title": ""
    }
   },
   "outputs": [],
   "source": [
    "jdbcHostname = \"j2dtechnologies.database.windows.net\"\n",
    "jdbcPort = 1433\n",
    "jdbcDatabase = \"j2d_training_db\"\n",
    "user_name = dbutils.secrets.get(scope=\"j2dtech-secrets3\", key=\"azure-sql-user-name\")\n",
    "user_password = dbutils.secrets.get(scope=\"j2dtech-secrets3\", key=\"azure-sql-password\")\n",
    "\n",
    "jdbcUrl = f\"jdbc:sqlserver://{jdbcHostname}:{jdbcPort};database={jdbcDatabase}\"\n",
    "\n",
    "connection_properties = {\n",
    "  \"user\": user_name,\n",
    "  \"password\": user_password,\n",
    "  \"driver\": \"com.microsoft.sqlserver.jdbc.SQLServerDriver\"\n",
    "}"
   ]
  },
  {
   "cell_type": "code",
   "execution_count": 0,
   "metadata": {
    "application/vnd.databricks.v1+cell": {
     "cellMetadata": {
      "byteLimit": 2048000,
      "rowLimit": 10000
     },
     "inputWidgets": {},
     "nuid": "4327cf70-aef7-441b-bf9d-0c0ac380968a",
     "showTitle": false,
     "tableResultSettingsMap": {},
     "title": ""
    }
   },
   "outputs": [],
   "source": [
    "query = \"(select TABLE_SCHEMA, TABLE_NAME from INFORMATION_SCHEMA.TABLES WHERE TABLE_TYPE = 'BASE TABLE') as temp\"\n",
    "\n",
    "table_names_df = spark.read.jdbc(\n",
    "    url=jdbcUrl,\n",
    "    table=query,\n",
    "    properties=connection_properties\n",
    ")\n",
    "\n",
    "table_names_df.display()"
   ]
  },
  {
   "cell_type": "code",
   "execution_count": 0,
   "metadata": {
    "application/vnd.databricks.v1+cell": {
     "cellMetadata": {
      "byteLimit": 2048000,
      "rowLimit": 10000
     },
     "inputWidgets": {},
     "nuid": "4b802383-2f79-4eaa-a5f3-353b79096ec9",
     "showTitle": false,
     "tableResultSettingsMap": {},
     "title": ""
    }
   },
   "outputs": [],
   "source": [
    "table_names_df.collect()"
   ]
  },
  {
   "cell_type": "code",
   "execution_count": 0,
   "metadata": {
    "application/vnd.databricks.v1+cell": {
     "cellMetadata": {
      "byteLimit": 2048000,
      "rowLimit": 10000
     },
     "inputWidgets": {},
     "nuid": "fe6da3cd-8d4d-49de-b64e-e478a933c6df",
     "showTitle": false,
     "tableResultSettingsMap": {},
     "title": ""
    }
   },
   "outputs": [],
   "source": [
    "dbutils.fs.mounts()"
   ]
  },
  {
   "cell_type": "code",
   "execution_count": 0,
   "metadata": {
    "application/vnd.databricks.v1+cell": {
     "cellMetadata": {
      "byteLimit": 2048000,
      "rowLimit": 10000
     },
     "inputWidgets": {},
     "nuid": "28625a60-9dda-4498-a8a5-f4321aa66059",
     "showTitle": false,
     "tableResultSettingsMap": {},
     "title": ""
    }
   },
   "outputs": [],
   "source": [
    "for row in table_names_df.collect():\n",
    "    schema = row[\"TABLE_SCHEMA\"]\n",
    "    table_name = row[\"TABLE_NAME\"]\n",
    "    full_table_name = f\"{schema}.{table_name}\"\n",
    "    print(f\"Processing table: {full_table_name}\")\n",
    "\n",
    "    df = spark.read.jdbc(\n",
    "        url=jdbcUrl,\n",
    "        table=full_table_name,\n",
    "        properties=connection_properties\n",
    "    )\n",
    "\n",
    "    df.write.format(\"csv\").mode(\"overwrite\").save(f\"/mnt/j2dadlscontainer/sql_tables/{table_name}\")"
   ]
  },
  {
   "cell_type": "code",
   "execution_count": 0,
   "metadata": {
    "application/vnd.databricks.v1+cell": {
     "cellMetadata": {
      "byteLimit": 2048000,
      "rowLimit": 10000
     },
     "inputWidgets": {},
     "nuid": "72157768-2bb0-43cd-9f9a-a95fc4ee53a7",
     "showTitle": false,
     "tableResultSettingsMap": {},
     "title": ""
    }
   },
   "outputs": [],
   "source": [
    "customer_table = (\n",
    "    spark.read\n",
    "    .format(\"jdbc\")\n",
    "    .option(\"url\", jdbcUrl)\n",
    "    .option(\"dbtable\", \"Customers\")\n",
    "    .option(\"user\", user_name)\n",
    "    .option(\"password\", user_password)\n",
    "    .load()\n",
    ")\n",
    "\n",
    "customer_table.display()"
   ]
  }
 ],
 "metadata": {
  "application/vnd.databricks.v1+notebook": {
   "computePreferences": null,
   "dashboards": [],
   "environmentMetadata": {
    "base_environment": "",
    "environment_version": "2"
   },
   "inputWidgetPreferences": null,
   "language": "python",
   "notebookMetadata": {
    "mostRecentlyExecutedCommandWithImplicitDF": {
     "commandId": -1,
     "dataframes": [
      "_sqldf"
     ]
    },
    "pythonIndentUnit": 4
   },
   "notebookName": "migrate data from azure sql to adls",
   "widgets": {}
  },
  "language_info": {
   "name": "python"
  }
 },
 "nbformat": 4,
 "nbformat_minor": 0
}
