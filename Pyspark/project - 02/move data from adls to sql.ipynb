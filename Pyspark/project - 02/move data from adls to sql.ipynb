{
 "cells": [
  {
   "cell_type": "markdown",
   "metadata": {
    "application/vnd.databricks.v1+cell": {
     "cellMetadata": {
      "byteLimit": 2048000,
      "rowLimit": 10000
     },
     "inputWidgets": {},
     "nuid": "413f3b79-b9b1-477b-a41f-dcf123e1875e",
     "showTitle": false,
     "tableResultSettingsMap": {},
     "title": ""
    }
   },
   "source": [
    "Migrate CSV files data into Sql Database"
   ]
  },
  {
   "cell_type": "code",
   "execution_count": 0,
   "metadata": {
    "application/vnd.databricks.v1+cell": {
     "cellMetadata": {
      "byteLimit": 2048000,
      "rowLimit": 10000
     },
     "inputWidgets": {},
     "nuid": "127eeb18-89dc-43c9-b953-d282756a1af9",
     "showTitle": false,
     "tableResultSettingsMap": {},
     "title": ""
    }
   },
   "outputs": [],
   "source": [
    "dbutils.fs.mounts()"
   ]
  },
  {
   "cell_type": "code",
   "execution_count": 0,
   "metadata": {
    "application/vnd.databricks.v1+cell": {
     "cellMetadata": {
      "byteLimit": 2048000,
      "rowLimit": 10000
     },
     "inputWidgets": {},
     "nuid": "7d7ef434-52f9-4044-af96-ab52c941b5a8",
     "showTitle": false,
     "tableResultSettingsMap": {},
     "title": ""
    }
   },
   "outputs": [],
   "source": [
    "mount_path = \"/mnt/j2dadlscontainer\"\n",
    "folder = \"raw_datasets\"\n",
    "base_path = f\"{mount_path}/{folder}\""
   ]
  },
  {
   "cell_type": "code",
   "execution_count": 0,
   "metadata": {
    "application/vnd.databricks.v1+cell": {
     "cellMetadata": {
      "byteLimit": 2048000,
      "rowLimit": 10000
     },
     "inputWidgets": {},
     "nuid": "6077e8b3-9cdd-43c2-99a0-5286e8b2700d",
     "showTitle": false,
     "tableResultSettingsMap": {},
     "title": ""
    }
   },
   "outputs": [],
   "source": [
    "# for name in dbutils.fs.ls(base_path):\n",
    "#     print(name)"
   ]
  },
  {
   "cell_type": "code",
   "execution_count": 0,
   "metadata": {
    "application/vnd.databricks.v1+cell": {
     "cellMetadata": {
      "byteLimit": 2048000,
      "rowLimit": 10000
     },
     "inputWidgets": {},
     "nuid": "1d0ae98a-ba62-4688-811d-8792b3706947",
     "showTitle": false,
     "tableResultSettingsMap": {},
     "title": ""
    }
   },
   "outputs": [],
   "source": [
    "def get_file_paths(path):\n",
    "    file_paths = []\n",
    "    for name in dbutils.fs.ls(path): \n",
    "        file_paths.append(name[0])\n",
    "    return file_paths"
   ]
  },
  {
   "cell_type": "code",
   "execution_count": 0,
   "metadata": {
    "application/vnd.databricks.v1+cell": {
     "cellMetadata": {
      "byteLimit": 2048000,
      "rowLimit": 10000
     },
     "inputWidgets": {},
     "nuid": "668f334f-33be-4e41-8194-3dd743e39223",
     "showTitle": false,
     "tableResultSettingsMap": {},
     "title": ""
    }
   },
   "outputs": [],
   "source": [
    "# get_file_paths(base_path)"
   ]
  },
  {
   "cell_type": "code",
   "execution_count": 0,
   "metadata": {
    "application/vnd.databricks.v1+cell": {
     "cellMetadata": {
      "byteLimit": 2048000,
      "rowLimit": 10000
     },
     "inputWidgets": {},
     "nuid": "d053bfa0-fbd7-4cf9-92be-0cfe415c8401",
     "showTitle": false,
     "tableResultSettingsMap": {},
     "title": ""
    }
   },
   "outputs": [],
   "source": [
    "jdbcHostname = \"j2dtechnologies.database.windows.net\"\n",
    "jdbcPort = 1433\n",
    "jdbcDatabase = \"j2d_training_db\"\n",
    "user_name = dbutils.secrets.get(scope=\"j2dtech-secrets3\", key=\"azure-sql-user-name\")\n",
    "user_password = dbutils.secrets.get(scope=\"j2dtech-secrets3\", key=\"azure-sql-password\")\n",
    "\n",
    "jdbcUrl = f\"jdbc:sqlserver://{jdbcHostname}:{jdbcPort};database={jdbcDatabase}\"\n",
    "\n",
    "connection_properties = {\n",
    "  \"user\": user_name,\n",
    "  \"password\": user_password,\n",
    "  \"driver\": \"com.microsoft.sqlserver.jdbc.SQLServerDriver\"\n",
    "}"
   ]
  },
  {
   "cell_type": "code",
   "execution_count": 0,
   "metadata": {
    "application/vnd.databricks.v1+cell": {
     "cellMetadata": {
      "byteLimit": 2048000,
      "rowLimit": 10000
     },
     "inputWidgets": {},
     "nuid": "d08e1f16-19e4-42cd-ad16-ecb94a64e5cc",
     "showTitle": false,
     "tableResultSettingsMap": {},
     "title": ""
    }
   },
   "outputs": [],
   "source": [
    "def migrate_into_sql(base_path):\n",
    "    file_paths = get_file_paths(base_path) # list of paths\n",
    "    for file_path in file_paths:\n",
    "        table_name = (file_path.split(\"/\")[-1])\n",
    "        if table_name.endswith(\".csv\"):\n",
    "            df = (\n",
    "                spark\n",
    "                .read\n",
    "                .format(\"csv\")\n",
    "                .option(\"header\", \"true\")\n",
    "                .option(\"inferSchema\", True)\n",
    "                .load(file_path)\n",
    "            )\n",
    "\n",
    "            # write to sql db\n",
    "            try:\n",
    "                (\n",
    "                    df\n",
    "                    .write\n",
    "                    .format(\"jdbc\")\n",
    "                    .mode(\"overwrite\")\n",
    "                    .option(\"url\", jdbcUrl)\n",
    "                    .option(\"dbtable\", table_name.replace(\".csv\", \"\"))\n",
    "                    .options(**connection_properties)\n",
    "                    .save()\n",
    "                )\n",
    "                print(f\"Written {table_name} to Azure Sql as table\")\n",
    "            except Exception as e:\n",
    "                print(e)"
   ]
  },
  {
   "cell_type": "code",
   "execution_count": 0,
   "metadata": {
    "application/vnd.databricks.v1+cell": {
     "cellMetadata": {
      "byteLimit": 2048000,
      "rowLimit": 10000
     },
     "inputWidgets": {},
     "nuid": "25131b3c-f976-4bf3-8467-8b6213237d4d",
     "showTitle": false,
     "tableResultSettingsMap": {},
     "title": ""
    }
   },
   "outputs": [],
   "source": [
    "migrate_into_sql(base_path)"
   ]
  }
 ],
 "metadata": {
  "application/vnd.databricks.v1+notebook": {
   "computePreferences": null,
   "dashboards": [],
   "environmentMetadata": {
    "base_environment": "",
    "environment_version": "2"
   },
   "inputWidgetPreferences": null,
   "language": "python",
   "notebookMetadata": {
    "pythonIndentUnit": 4
   },
   "notebookName": "move data from adls to sql",
   "widgets": {}
  },
  "language_info": {
   "name": "python"
  }
 },
 "nbformat": 4,
 "nbformat_minor": 0
}
