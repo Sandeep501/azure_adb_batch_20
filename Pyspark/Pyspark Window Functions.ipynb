{
 "cells": [
  {
   "cell_type": "code",
   "execution_count": 0,
   "metadata": {
    "application/vnd.databricks.v1+cell": {
     "cellMetadata": {},
     "inputWidgets": {},
     "nuid": "cbb702e4-0159-4d1c-a835-5b9cdfd21702",
     "showTitle": false,
     "tableResultSettingsMap": {},
     "title": ""
    }
   },
   "outputs": [],
   "source": [
    "# window functions"
   ]
  },
  {
   "cell_type": "code",
   "execution_count": 0,
   "metadata": {
    "application/vnd.databricks.v1+cell": {
     "cellMetadata": {
      "byteLimit": 2048000,
      "rowLimit": 10000
     },
     "inputWidgets": {},
     "nuid": "6046588e-7951-4933-862b-d6c06539ca2e",
     "showTitle": false,
     "tableResultSettingsMap": {},
     "title": ""
    }
   },
   "outputs": [],
   "source": [
    "from pyspark.sql.window import Window\n",
    "from pyspark.sql import functions as F, types as T"
   ]
  },
  {
   "cell_type": "code",
   "execution_count": 0,
   "metadata": {
    "application/vnd.databricks.v1+cell": {
     "cellMetadata": {
      "byteLimit": 2048000,
      "rowLimit": 10000
     },
     "inputWidgets": {},
     "nuid": "774e0928-47d8-4e69-858a-db485bfdb7fb",
     "showTitle": false,
     "tableResultSettingsMap": {},
     "title": ""
    }
   },
   "outputs": [],
   "source": [
    "data = [\n",
    "    (\"Balaji\", \"sales\", 3000),\n",
    "    (\"Harsha\", \"sales\", 4000),\n",
    "    (\"Farooq\", \"sales\", 3400),\n",
    "    (\"Govardan\", \"HR\", 3500),\n",
    "    (\"Bhanu\", \"HR\", 4500),\n",
    "    (\"Naveen\", \"HR\", 4500),\n",
    "    (\"Manoj\", \"HR\", 4000)\n",
    "]\n",
    "\n",
    "df = spark.createDataFrame(data, [\"EmpName\", \"Department\", \"Salary\"])\n",
    "df.display()"
   ]
  },
  {
   "cell_type": "code",
   "execution_count": 0,
   "metadata": {
    "application/vnd.databricks.v1+cell": {
     "cellMetadata": {
      "byteLimit": 2048000,
      "rowLimit": 10000
     },
     "inputWidgets": {},
     "nuid": "7749c1ba-8e9b-4f98-afe2-d1456c57a6a4",
     "showTitle": false,
     "tableResultSettingsMap": {},
     "title": ""
    }
   },
   "outputs": [],
   "source": [
    "# row number\n",
    "window_spec = Window.partitionBy(\"Department\").orderBy(F.col(\"Salary\").desc())\n",
    "df_row = df.withColumn(\"rn\", F.row_number().over(window_spec))\n",
    "df_row.display()"
   ]
  },
  {
   "cell_type": "code",
   "execution_count": 0,
   "metadata": {
    "application/vnd.databricks.v1+cell": {
     "cellMetadata": {
      "byteLimit": 2048000,
      "rowLimit": 10000
     },
     "inputWidgets": {},
     "nuid": "4c69a6bc-937c-4d69-854d-5a4135767de7",
     "showTitle": false,
     "tableResultSettingsMap": {},
     "title": ""
    }
   },
   "outputs": [],
   "source": [
    "# rank\n",
    "window_spec = Window.partitionBy(\"Department\").orderBy(F.col(\"Salary\").desc())\n",
    "df_rank = df.withColumn(\"rk\", F.rank().over(window_spec))\n",
    "df_rank.display()"
   ]
  },
  {
   "cell_type": "code",
   "execution_count": 0,
   "metadata": {
    "application/vnd.databricks.v1+cell": {
     "cellMetadata": {
      "byteLimit": 2048000,
      "rowLimit": 10000
     },
     "inputWidgets": {},
     "nuid": "b49dfa29-be4f-4eb4-986e-455df1007717",
     "showTitle": false,
     "tableResultSettingsMap": {},
     "title": ""
    }
   },
   "outputs": [],
   "source": [
    "# dense_rank\n",
    "window_spec = Window.partitionBy(\"Department\").orderBy(F.col(\"Salary\").desc())\n",
    "df_drk = df.withColumn(\"drn\", F.dense_rank().over(window_spec))\n",
    "df_drk.display()"
   ]
  },
  {
   "cell_type": "code",
   "execution_count": 0,
   "metadata": {
    "application/vnd.databricks.v1+cell": {
     "cellMetadata": {
      "byteLimit": 2048000,
      "rowLimit": 10000
     },
     "inputWidgets": {},
     "nuid": "5d955335-e193-4d7c-98ca-43db20ae0f8e",
     "showTitle": false,
     "tableResultSettingsMap": {},
     "title": ""
    }
   },
   "outputs": [],
   "source": [
    "data = [\n",
    "    (101, \"2020-05-10\", 50000.0),\n",
    "    (101, \"2021-06-15\", 55000.0),\n",
    "    (101, \"2021-06-15\", 55000.0),\n",
    "    (102, \"2019-03-20\", 40000.0),\n",
    "    (102, \"2022-07-25\", 60000.0),\n",
    "    (103, \"2021-01-05\", 45000.0),\n",
    "    (103, \"2023-08-30\", 70000.0),\n",
    "    (104, \"2022-09-17\", 48000.0),  # No duplicate\n",
    "]\n",
    "\n",
    "# Define schema\n",
    "schema = T.StructType([\n",
    "    T.StructField(\"empid\", T.IntegerType(), True),\n",
    "    T.StructField(\"joining_date\", T.StringType(), True),\n",
    "    T.StructField(\"salary\", T.FloatType(), True)\n",
    "])\n",
    "\n",
    "# Create DataFrame\n",
    "df = spark.createDataFrame(data, schema)\n",
    "df.display()\n"
   ]
  },
  {
   "cell_type": "code",
   "execution_count": 0,
   "metadata": {
    "application/vnd.databricks.v1+cell": {
     "cellMetadata": {
      "byteLimit": 2048000,
      "rowLimit": 10000
     },
     "inputWidgets": {},
     "nuid": "03c0518e-03c9-48b2-8c52-aa9fe0b90335",
     "showTitle": false,
     "tableResultSettingsMap": {},
     "title": ""
    }
   },
   "outputs": [],
   "source": [
    "df = df.withColumn(\"joining_date\", F.to_date(\"joining_date\", \"yyyy-MM-dd\"))\n",
    "df.display()"
   ]
  },
  {
   "cell_type": "code",
   "execution_count": 0,
   "metadata": {
    "application/vnd.databricks.v1+cell": {
     "cellMetadata": {
      "byteLimit": 2048000,
      "rowLimit": 10000
     },
     "inputWidgets": {},
     "nuid": "e5470b70-1f30-41f1-9497-035c5875ae18",
     "showTitle": false,
     "tableResultSettingsMap": {},
     "title": ""
    }
   },
   "outputs": [],
   "source": [
    "# find the latest record\n",
    "window_spec = Window.partitionBy(\"empid\").orderBy(F.col(\"joining_date\").desc())\n",
    "df_rn = df.withColumn(\"rn\", F.row_number().over(window_spec))\n",
    "df_rn.display()"
   ]
  },
  {
   "cell_type": "code",
   "execution_count": 0,
   "metadata": {
    "application/vnd.databricks.v1+cell": {
     "cellMetadata": {
      "byteLimit": 2048000,
      "rowLimit": 10000
     },
     "inputWidgets": {},
     "nuid": "d60a923c-f9eb-4cd7-baf3-27e7ecc11878",
     "showTitle": false,
     "tableResultSettingsMap": {},
     "title": ""
    }
   },
   "outputs": [],
   "source": [
    "display(df_rn.filter(F.col(\"rn\") == 1))"
   ]
  },
  {
   "cell_type": "code",
   "execution_count": 0,
   "metadata": {
    "application/vnd.databricks.v1+cell": {
     "cellMetadata": {
      "byteLimit": 2048000,
      "rowLimit": 10000
     },
     "inputWidgets": {},
     "nuid": "db540617-4607-44bf-bdea-ef3c0ca8fafb",
     "showTitle": false,
     "tableResultSettingsMap": {},
     "title": ""
    }
   },
   "outputs": [],
   "source": [
    "# find the latest record using rank, which is not ideal in this case\n",
    "window_spec = Window.partitionBy(\"empid\").orderBy(F.col(\"joining_date\").desc())\n",
    "df_rk = df.withColumn(\"rk\", F.rank().over(window_spec))\n",
    "df_rk.display()"
   ]
  },
  {
   "cell_type": "code",
   "execution_count": 0,
   "metadata": {
    "application/vnd.databricks.v1+cell": {
     "cellMetadata": {
      "byteLimit": 2048000,
      "rowLimit": 10000
     },
     "inputWidgets": {},
     "nuid": "fab560b6-a17c-4ca3-ad3e-2ed42e290368",
     "showTitle": false,
     "tableResultSettingsMap": {},
     "title": ""
    }
   },
   "outputs": [],
   "source": [
    "display(df_rk.filter(F.col(\"rk\") == 1))"
   ]
  },
  {
   "cell_type": "code",
   "execution_count": 0,
   "metadata": {
    "application/vnd.databricks.v1+cell": {
     "cellMetadata": {
      "byteLimit": 2048000,
      "rowLimit": 10000
     },
     "inputWidgets": {},
     "nuid": "6e1117da-4f83-4c57-8185-061f17d5bcf6",
     "showTitle": false,
     "tableResultSettingsMap": {},
     "title": ""
    }
   },
   "outputs": [],
   "source": [
    "# find the latest record using dense_rank, which is not ideal in this case\n",
    "window_spec = Window.partitionBy(\"empid\").orderBy(F.col(\"joining_date\").desc())\n",
    "df_drk = df.withColumn(\"drk\", F.dense_rank().over(window_spec))\n",
    "df_drk.display()"
   ]
  },
  {
   "cell_type": "code",
   "execution_count": 0,
   "metadata": {
    "application/vnd.databricks.v1+cell": {
     "cellMetadata": {
      "byteLimit": 2048000,
      "rowLimit": 10000
     },
     "inputWidgets": {},
     "nuid": "4cdd0c2d-c890-46ff-9511-f427405aff41",
     "showTitle": false,
     "tableResultSettingsMap": {},
     "title": ""
    }
   },
   "outputs": [],
   "source": [
    "display(df_drk.filter(F.col(\"drk\") == 1))"
   ]
  }
 ],
 "metadata": {
  "application/vnd.databricks.v1+notebook": {
   "computePreferences": null,
   "dashboards": [],
   "environmentMetadata": {
    "base_environment": "",
    "environment_version": "2"
   },
   "inputWidgetPreferences": null,
   "language": "python",
   "notebookMetadata": {
    "pythonIndentUnit": 4
   },
   "notebookName": "Pyspark Window Functions",
   "widgets": {}
  },
  "language_info": {
   "name": "python"
  }
 },
 "nbformat": 4,
 "nbformat_minor": 0
}
